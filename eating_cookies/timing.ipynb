{
 "cells": [
  {
   "cell_type": "markdown",
   "metadata": {},
   "source": [
    "# Testing cached recursive vs naive recursive solution to eating cookies"
   ]
  },
  {
   "cell_type": "code",
   "execution_count": 1,
   "metadata": {},
   "outputs": [],
   "source": [
    "cache = {}\n",
    "def cached_eating_cookies(n, count=0):\n",
    "  if n == 0:\n",
    "    return 1\n",
    "  elif n < 0:\n",
    "    return 0\n",
    "  elif n in cache.keys():\n",
    "    return cache[n]\n",
    "  elif n >= 1:\n",
    "    count += eating_cookies(n=n-1, count=count)\\\n",
    "            + eating_cookies(n=n-2, count=count)\\\n",
    "            + eating_cookies(n=n-3, count=count)\n",
    "    # print('n:{}, count:{}'.format(n, count))\n",
    "    cache[n] = count\n",
    "    # print(cache)\n",
    "  return count\n",
    "\n",
    "def eating_cookies(n, count=0):\n",
    "  if n == 0:\n",
    "    return 1\n",
    "  elif n < 0:\n",
    "    return 0\n",
    "  elif n >= 1:\n",
    "    count += eating_cookies(n=n-1, count=count)\\\n",
    "            + eating_cookies(n=n-2, count=count)\\\n",
    "            + eating_cookies(n=n-3, count=count)\n",
    "  return count"
   ]
  },
  {
   "cell_type": "code",
   "execution_count": 30,
   "metadata": {},
   "outputs": [],
   "source": [
    "from datetime import datetime\n",
    "\n",
    "def run_fn(*args):\n",
    "    start_time = datetime.now()\n",
    "    args[0][0](n=args[0][1])\n",
    "    end_time = datetime.now()\n",
    "    delta = end_time - start_time\n",
    "    return delta.total_seconds()"
   ]
  },
  {
   "cell_type": "code",
   "execution_count": 31,
   "metadata": {},
   "outputs": [],
   "source": [
    "naive_times = list(map(run_fn, [(eating_cookies, n) for n in range(30)]))"
   ]
  },
  {
   "cell_type": "code",
   "execution_count": 46,
   "metadata": {},
   "outputs": [],
   "source": [
    "cache_times = list(map(run_fn, [(cached_eating_cookies, n) for n in range(30)]))"
   ]
  },
  {
   "cell_type": "code",
   "execution_count": 47,
   "metadata": {},
   "outputs": [],
   "source": [
    "from matplotlib import pyplot as plt"
   ]
  },
  {
   "cell_type": "code",
   "execution_count": 48,
   "metadata": {},
   "outputs": [
    {
     "data": {
      "image/png": "[encoded data removed]",
      "text/plain": [
       "<Figure size 432x288 with 1 Axes>"
      ]
     },
     "metadata": {
      "needs_background": "light"
     },
     "output_type": "display_data"
    }
   ],
   "source": [
    "x = list(range(30))\n",
    "\n",
    "fig, ax = plt.subplots()\n",
    "for Y in [naive_times, cache_times]:\n",
    "    ax.plot(x, Y)\n",
    "ax.set_title('Naive vs Cached Recursion')\n",
    "\n"
   ]
  },
  {
   "cell_type": "code",
   "execution_count": null,
   "metadata": {},
   "outputs": [],
   "source": []
  }
 ],
 "metadata": {
  "kernelspec": {
   "display_name": "Python 3",
   "language": "python",
   "name": "python3"
  },
  "language_info": {
   "codemirror_mode": {
    "name": "ipython",
    "version": 3
   },
   "file_extension": ".py",
   "mimetype": "text/x-python",
   "name": "python",
   "nbconvert_exporter": "python",
   "pygments_lexer": "ipython3",
   "version": "3.7.4"
  }
 },
 "nbformat": 4,
 "nbformat_minor": 4
}
