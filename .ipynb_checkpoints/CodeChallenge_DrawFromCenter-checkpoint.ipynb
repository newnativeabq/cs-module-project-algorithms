{
 "cells": [
  {
   "cell_type": "code",
   "execution_count": 11,
   "metadata": {},
   "outputs": [],
   "source": [
    "from math import sqrt\n",
    "\n",
    "\n",
    "class Path():\n",
    "    def __init__(self, x, y):\n",
    "        self.x = x\n",
    "        self.y = y\n",
    "        self.direction = 'left'\n",
    "        self.steps = 1\n",
    "        self.counter = 0\n",
    "        self.count_changes = 0\n",
    "        \n",
    "    \n",
    "    def _move_left(self):\n",
    "        self.x = self.x - 1\n",
    "    \n",
    "    def _move_right(self):\n",
    "        self.x = self.x + 1\n",
    "        \n",
    "    def _move_up(self):\n",
    "        self.y = self.y + 1\n",
    "        \n",
    "    def _move_down(self):\n",
    "        self.y = self.y - 1\n",
    "    \n",
    "    def _move_xy(self):\n",
    "        move_fn = {\n",
    "            'left': self._move_left, # lambda self: self.y += 1\n",
    "            'right': self._move_right,\n",
    "            'up': self._move_up,\n",
    "            'down': self._move_down,\n",
    "        }\n",
    "        move_fn[self.direction]()\n",
    "    \n",
    "    \n",
    "    def _change_direction(self):\n",
    "        turns = {\n",
    "            'left': 'down',\n",
    "            'down': 'right', \n",
    "            'right': 'up', \n",
    "            'up': 'left'\n",
    "        }\n",
    "        self.count_changes += 1\n",
    "        self.direction = turns[self.direction]\n",
    "    \n",
    "    \n",
    "    def _validate_pos(self):\n",
    "        if self.x < 0 or self.y < 0:\n",
    "            return None\n",
    "        return self.x, self.y\n",
    "    \n",
    "    \n",
    "    def move(self):\n",
    "        self.counter += 1\n",
    "        self._move_xy()\n",
    "        print(self.direction, self.counter, self.steps)\n",
    "        if self.counter == self.steps:\n",
    "            self._change_direction()\n",
    "            if self.count_changes % 2 == 0:\n",
    "                self.steps += 1\n",
    "            self.counter = 0\n",
    "            \n",
    "        return self._validate_pos()\n",
    "            \n",
    "\n",
    "\n",
    "def _get_side_len(arr):\n",
    "    return int(sqrt(len(arr)))\n",
    "\n",
    "\n",
    "\n",
    "def _find_middle(arr, side_len):\n",
    "    # Get middle\n",
    "    mid = int((side_len - 1) / 2)\n",
    "    return mid, mid\n",
    "\n",
    "\n",
    "def _build_matrix(arr, side_len):\n",
    "    # Initialize matrix\n",
    "    row = [0] * side_len\n",
    "    return [row.copy() for _ in range(side_len)]\n",
    "\n",
    "\n",
    "\n",
    "def draw(arr):\n",
    "    side_len = _get_side_len(arr)\n",
    "    matrix = _build_matrix(arr, side_len)\n",
    "    x, y = _find_middle(arr, side_len)\n",
    "    matrix[y][x] = arr[0]\n",
    "    \n",
    "#     for num in arr[1:]:\n",
    "#         x, y = _move_counter_clockwise(x, y)\n",
    "#         matrix[y, x] = num\n",
    "    \n",
    "    return matrix"
   ]
  },
  {
   "cell_type": "code",
   "execution_count": 12,
   "metadata": {},
   "outputs": [],
   "source": [
    "path = Path(1, 1)"
   ]
  },
  {
   "cell_type": "code",
   "execution_count": 21,
   "metadata": {},
   "outputs": [
    {
     "name": "stdout",
     "output_type": "stream",
     "text": [
      "left 3 3\n"
     ]
    },
    {
     "data": {
      "text/plain": [
       "(-1, 2)"
      ]
     },
     "execution_count": 21,
     "metadata": {},
     "output_type": "execute_result"
    }
   ],
   "source": [
    "path.move()"
   ]
  },
  {
   "cell_type": "code",
   "execution_count": null,
   "metadata": {},
   "outputs": [],
   "source": []
  },
  {
   "cell_type": "code",
   "execution_count": null,
   "metadata": {},
   "outputs": [],
   "source": []
  }
 ],
 "metadata": {
  "kernelspec": {
   "display_name": "Python 3",
   "language": "python",
   "name": "python3"
  },
  "language_info": {
   "codemirror_mode": {
    "name": "ipython",
    "version": 3
   },
   "file_extension": ".py",
   "mimetype": "text/x-python",
   "name": "python",
   "nbconvert_exporter": "python",
   "pygments_lexer": "ipython3",
   "version": "3.7.4"
  }
 },
 "nbformat": 4,
 "nbformat_minor": 4
}
